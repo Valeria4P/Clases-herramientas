{
  "nbformat": 4,
  "nbformat_minor": 0,
  "metadata": {
    "colab": {
      "provenance": [],
      "authorship_tag": "ABX9TyNzHQ96KUtBIMq569ooAKYs",
      "include_colab_link": true
    },
    "kernelspec": {
      "name": "python3",
      "display_name": "Python 3"
    },
    "language_info": {
      "name": "python"
    }
  },
  "cells": [
    {
      "cell_type": "markdown",
      "metadata": {
        "id": "view-in-github",
        "colab_type": "text"
      },
      "source": [
        "<a href=\"https://colab.research.google.com/github/Valeria4P/Clases-herramientas/blob/main/THC_VALERIA_TAREA4.ipynb\" target=\"_parent\"><img src=\"https://colab.research.google.com/assets/colab-badge.svg\" alt=\"Open In Colab\"/></a>"
      ]
    },
    {
      "cell_type": "code",
      "execution_count": 3,
      "metadata": {
        "id": "FxPHgigCbaXK"
      },
      "outputs": [],
      "source": []
    },
    {
      "cell_type": "code",
      "source": [
        "# Programa para calcular el área de un triángulo usando la fórmula de Herón\n",
        "\n",
        "def area_triangulo(a, b, c):\n",
        "    \"\"\"\n",
        "    Función que calcula el área de un triángulo con lados a, b y c\n",
        "    utilizando la fórmula de Herón.\n",
        "    \"\"\"\n",
        "    #Sean \"a, b, c\" los lados del triángulo, \"s\" el semiperímetro y \"area\" el área del triángulo\n",
        "\n",
        "    s = (a + b + c) / 2  # cálculo del semiperímetro\n",
        "    area = (s * (s - a) * (s - b) * (s - c)) ** 0.5  # fórmula de Herón\n",
        "    return area\n",
        "\n",
        "while True:\n",
        "    #Valores\n",
        "    a = float(input(\"Ingresa el valor del primer lado: \"))\n",
        "    b = float(input(\"Ingresa el valor del segundo lado: \"))\n",
        "    c = float(input(\"Ingresa el valor del tercer lado: \"))\n",
        "\n",
        "    #Valores positivos o no\n",
        "    if a <= 0 or b <= 0 or c <= 0:\n",
        "        print(\" Los tres valores deben ser positivos. Vuelve a intentarlo.\")\n",
        "        continue\n",
        "\n",
        "    #Desigualdad triangular\n",
        "    if (a + b > c) and (a + c > b) and (b + c > a):\n",
        "        #Calcular el área con la función\n",
        "        resultado = area_triangulo(a, b, c)\n",
        "        print(f\" El área del triángulo es: {resultado:.2f}\")\n",
        "        break\n",
        "    else:\n",
        "        print(\"Los valores no cumplen con la desigualdad triangular. Vuelve a intentarlo.\")"
      ],
      "metadata": {
        "colab": {
          "base_uri": "https://localhost:8080/"
        },
        "id": "m9I57qzZc09A",
        "outputId": "fcc65ef3-2606-4058-a044-f414e457106b"
      },
      "execution_count": 9,
      "outputs": [
        {
          "output_type": "stream",
          "name": "stdout",
          "text": [
            "Ingresa el valor del primer lado: 7\n",
            "Ingresa el valor del segundo lado: 8\n",
            "Ingresa el valor del tercer lado: 9\n",
            " El área del triángulo es: 26.83\n"
          ]
        }
      ]
    }
  ]
}