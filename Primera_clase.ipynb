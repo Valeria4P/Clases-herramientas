{
  "nbformat": 4,
  "nbformat_minor": 0,
  "metadata": {
    "colab": {
      "provenance": [],
      "authorship_tag": "ABX9TyMm0R0werCEqUV5m0nL7fAj",
      "include_colab_link": true
    },
    "kernelspec": {
      "name": "python3",
      "display_name": "Python 3"
    },
    "language_info": {
      "name": "python"
    }
  },
  "cells": [
    {
      "cell_type": "markdown",
      "metadata": {
        "id": "view-in-github",
        "colab_type": "text"
      },
      "source": [
        "<a href=\"https://colab.research.google.com/github/Valeria4P/Clases-herramientas/blob/main/Primera_clase.ipynb\" target=\"_parent\"><img src=\"https://colab.research.google.com/assets/colab-badge.svg\" alt=\"Open In Colab\"/></a>"
      ]
    },
    {
      "cell_type": "markdown",
      "source": [
        "El teorema de **pitágoras** es:\n",
        "\\begin{equation}\n",
        "c^2=a^2+b^2\n",
        "\\end{equation}\n",
        "Con c como la hipotenusa, y a,b como catetos."
      ],
      "metadata": {
        "id": "zbopjkc78LYy"
      }
    },
    {
      "cell_type": "code",
      "execution_count": null,
      "metadata": {
        "colab": {
          "base_uri": "https://localhost:8080/"
        },
        "id": "NMGumEHB7uCr",
        "outputId": "f6644f0c-31f8-4708-d0b0-b2e37b14b110"
      },
      "outputs": [
        {
          "output_type": "stream",
          "name": "stdout",
          "text": [
            "1 3.15\n"
          ]
        }
      ],
      "source": [
        "a = 1 #variable de tipo entera\n",
        "b = 3.15 #variable de punto flotante\n",
        "print(a,b)"
      ]
    },
    {
      "cell_type": "markdown",
      "source": [
        "\\"
      ],
      "metadata": {
        "id": "OP9fSMrC_eQ6"
      }
    },
    {
      "cell_type": "code",
      "source": [
        "a=1\n",
        "b=\"buenos dias\"\n",
        "print(a,b)"
      ],
      "metadata": {
        "colab": {
          "base_uri": "https://localhost:8080/"
        },
        "id": "4lLLDDQIASs1",
        "outputId": "f886267b-f74d-49fb-d682-a04e8ad85d07"
      },
      "execution_count": null,
      "outputs": [
        {
          "output_type": "stream",
          "name": "stdout",
          "text": [
            "1 buenos dias\n"
          ]
        }
      ]
    },
    {
      "cell_type": "code",
      "source": [
        "x=str(3)\n",
        "y=int(3)\n",
        "z=float(3)\n",
        "print(x,y,z)\n"
      ],
      "metadata": {
        "colab": {
          "base_uri": "https://localhost:8080/"
        },
        "id": "gtoBumzBArpL",
        "outputId": "35a8e4cb-003e-4b05-de07-495760309c31"
      },
      "execution_count": null,
      "outputs": [
        {
          "output_type": "stream",
          "name": "stdout",
          "text": [
            "3 3 3.0\n"
          ]
        }
      ]
    },
    {
      "cell_type": "code",
      "source": [
        "print(type(x),type(y),type(z))"
      ],
      "metadata": {
        "colab": {
          "base_uri": "https://localhost:8080/"
        },
        "id": "b4GSiT-gBCw2",
        "outputId": "19a3ddcb-46c1-4611-874a-bbf321d41b8e"
      },
      "execution_count": null,
      "outputs": [
        {
          "output_type": "stream",
          "name": "stdout",
          "text": [
            "<class 'str'> <class 'int'> <class 'float'>\n"
          ]
        }
      ]
    },
    {
      "cell_type": "code",
      "source": [
        "#cadenas\n",
        "x=\"Yo\"\n",
        "y='Tu'\n",
        "print(x,y)"
      ],
      "metadata": {
        "colab": {
          "base_uri": "https://localhost:8080/"
        },
        "id": "L5X6dYsVCVdu",
        "outputId": "e2d6b3e0-b771-408c-f3ae-79b7f448b010"
      },
      "execution_count": null,
      "outputs": [
        {
          "output_type": "stream",
          "name": "stdout",
          "text": [
            "Yo yo\n"
          ]
        }
      ]
    },
    {
      "cell_type": "code",
      "source": [
        "m=14.8\n",
        "M=\"yendo\"\n",
        "print(m,M)\n"
      ],
      "metadata": {
        "colab": {
          "base_uri": "https://localhost:8080/"
        },
        "id": "T7cyhic0Cx6T",
        "outputId": "360efa89-6870-4c84-dadb-ec07503ba145"
      },
      "execution_count": null,
      "outputs": [
        {
          "output_type": "stream",
          "name": "stdout",
          "text": [
            "14.8 yendo\n"
          ]
        }
      ]
    },
    {
      "cell_type": "code",
      "source": [
        "x, y, z = \"Vamos\", \"al\", \"parque\"\n",
        "print(x)\n",
        "print(y)\n",
        "print(z)"
      ],
      "metadata": {
        "colab": {
          "base_uri": "https://localhost:8080/"
        },
        "id": "KiNWhOvcEDjJ",
        "outputId": "49ccf9e0-dfff-4c8b-c969-57be3e366870"
      },
      "execution_count": null,
      "outputs": [
        {
          "output_type": "stream",
          "name": "stdout",
          "text": [
            "Vamos\n",
            "al\n",
            "parque\n"
          ]
        }
      ]
    },
    {
      "cell_type": "code",
      "source": [
        "x=y=z=\"Si q si\"\n",
        "print(x)\n",
        "print(y)\n",
        "print(z)"
      ],
      "metadata": {
        "colab": {
          "base_uri": "https://localhost:8080/"
        },
        "id": "5aPAc7hKEYVu",
        "outputId": "d6c609f7-2bcb-4393-c79a-5c2e71ec832b"
      },
      "execution_count": null,
      "outputs": [
        {
          "output_type": "stream",
          "name": "stdout",
          "text": [
            "Si q si\n",
            "Si q si\n",
            "Si q si\n"
          ]
        }
      ]
    },
    {
      "cell_type": "code",
      "source": [],
      "metadata": {
        "id": "nKQfnmnGEqtL"
      },
      "execution_count": null,
      "outputs": []
    },
    {
      "cell_type": "markdown",
      "source": [],
      "metadata": {
        "id": "MoIXKk3DErDx"
      }
    },
    {
      "cell_type": "code",
      "source": [
        "#Vamos a calcular elñ área de un triángulo\n",
        "#area (a), base(b), altura(h)\n",
        "b=3 #base de triángulo\n",
        "h=5 #altura del triangulo\n",
        "area=b*h/2 #formul del area de un triangulo\n",
        "print (\"El area del triángulo es: 'area' unidades de medida\") #imprimo resultado"
      ],
      "metadata": {
        "colab": {
          "base_uri": "https://localhost:8080/"
        },
        "id": "h4zmSObzEjLC",
        "outputId": "d2078220-d605-4bff-c949-df41ba450cd3"
      },
      "execution_count": null,
      "outputs": [
        {
          "output_type": "stream",
          "name": "stdout",
          "text": [
            "El area del triángulo es: 'area' unidades de medida\n"
          ]
        }
      ]
    },
    {
      "cell_type": "code",
      "source": [
        "a= 14/2\n",
        "b= 25/8\n",
        "print(a)\n",
        "print(b)"
      ],
      "metadata": {
        "colab": {
          "base_uri": "https://localhost:8080/"
        },
        "id": "P8Uam7ppFzn3",
        "outputId": "c5f23307-ce11-4f6f-f20c-002f546a6a60"
      },
      "execution_count": null,
      "outputs": [
        {
          "output_type": "stream",
          "name": "stdout",
          "text": [
            "7.0\n",
            "3.125\n"
          ]
        }
      ]
    },
    {
      "cell_type": "code",
      "source": [
        "suma=5+8\n",
        "suma"
      ],
      "metadata": {
        "colab": {
          "base_uri": "https://localhost:8080/"
        },
        "id": "mQWzDYeQGTpP",
        "outputId": "37b73812-79ff-4e89-be8a-47f6adfb7f85"
      },
      "execution_count": null,
      "outputs": [
        {
          "output_type": "execute_result",
          "data": {
            "text/plain": [
              "13"
            ]
          },
          "metadata": {},
          "execution_count": 21
        }
      ]
    },
    {
      "cell_type": "code",
      "source": [
        "resta=58-25\n",
        "resta"
      ],
      "metadata": {
        "colab": {
          "base_uri": "https://localhost:8080/"
        },
        "id": "MbE07KcaGXRt",
        "outputId": "7888698d-fabd-49c3-93ab-9992e9a4005d"
      },
      "execution_count": null,
      "outputs": [
        {
          "output_type": "execute_result",
          "data": {
            "text/plain": [
              "33"
            ]
          },
          "metadata": {},
          "execution_count": 22
        }
      ]
    },
    {
      "cell_type": "code",
      "source": [
        "mult=846*558\n",
        "mult"
      ],
      "metadata": {
        "colab": {
          "base_uri": "https://localhost:8080/"
        },
        "id": "Aq-yGP7OGaeh",
        "outputId": "0120463c-0a24-40dd-dad9-b21d87eec7e6"
      },
      "execution_count": null,
      "outputs": [
        {
          "output_type": "execute_result",
          "data": {
            "text/plain": [
              "472068"
            ]
          },
          "metadata": {},
          "execution_count": 23
        }
      ]
    },
    {
      "cell_type": "code",
      "source": [
        "divide=5879/32216\n",
        "divide"
      ],
      "metadata": {
        "colab": {
          "base_uri": "https://localhost:8080/"
        },
        "id": "uZ98TXVZGfn1",
        "outputId": "ab414c42-90f1-454a-9337-8ac771e6efd3"
      },
      "execution_count": null,
      "outputs": [
        {
          "output_type": "execute_result",
          "data": {
            "text/plain": [
              "0.18248696299975167"
            ]
          },
          "metadata": {},
          "execution_count": 24
        }
      ]
    },
    {
      "cell_type": "code",
      "source": [
        "a=8**5 #potencia\n",
        "a"
      ],
      "metadata": {
        "colab": {
          "base_uri": "https://localhost:8080/"
        },
        "id": "r3quLKqmGkBO",
        "outputId": "36917904-cf4d-43f2-dc80-fee4dcbf4552"
      },
      "execution_count": null,
      "outputs": [
        {
          "output_type": "execute_result",
          "data": {
            "text/plain": [
              "32768"
            ]
          },
          "metadata": {},
          "execution_count": 27
        }
      ]
    },
    {
      "cell_type": "code",
      "source": [
        "a=25**(1/2) #raiz cuadrada\n",
        "a"
      ],
      "metadata": {
        "colab": {
          "base_uri": "https://localhost:8080/"
        },
        "id": "8Kpaw2N_HDJU",
        "outputId": "6f13b1cd-bd21-4155-ebab-c11ded77e392"
      },
      "execution_count": null,
      "outputs": [
        {
          "output_type": "execute_result",
          "data": {
            "text/plain": [
              "5.0"
            ]
          },
          "metadata": {},
          "execution_count": 29
        }
      ]
    },
    {
      "cell_type": "code",
      "source": [
        "import keyword #palabras reservadas en phyton\n",
        "print(keyword.kwlist)"
      ],
      "metadata": {
        "colab": {
          "base_uri": "https://localhost:8080/"
        },
        "id": "Oii70mZKHWZ4",
        "outputId": "79ce1ea3-ecbf-4f35-fc01-ca831bc17a94"
      },
      "execution_count": null,
      "outputs": [
        {
          "output_type": "stream",
          "name": "stdout",
          "text": [
            "['False', 'None', 'True', 'and', 'as', 'assert', 'async', 'await', 'break', 'class', 'continue', 'def', 'del', 'elif', 'else', 'except', 'finally', 'for', 'from', 'global', 'if', 'import', 'in', 'is', 'lambda', 'nonlocal', 'not', 'or', 'pass', 'raise', 'return', 'try', 'while', 'with', 'yield']\n"
          ]
        }
      ]
    },
    {
      "cell_type": "code",
      "source": [
        "#numeros complejos\n",
        "comp=2+3j\n",
        "print(comp)"
      ],
      "metadata": {
        "colab": {
          "base_uri": "https://localhost:8080/"
        },
        "id": "DyNy_LIyH3KG",
        "outputId": "5480c1e5-bbb4-40ec-9db1-462c034a77de"
      },
      "execution_count": null,
      "outputs": [
        {
          "output_type": "stream",
          "name": "stdout",
          "text": [
            "(2+3j)\n"
          ]
        }
      ]
    },
    {
      "cell_type": "code",
      "source": [
        "#cambio de grados centigrados\n",
        "#f(fahrenheit), k(kelvin) r(rankine),\n",
        "c=25\n",
        "f=(c* (9/5)) + 32\n",
        "k=c+273.15\n",
        "r=(1.8*c)+491.67\n",
        "print(f)\n",
        "print(k)\n",
        "print(r)\n"
      ],
      "metadata": {
        "colab": {
          "base_uri": "https://localhost:8080/"
        },
        "id": "XDQ5j_QpIP3q",
        "outputId": "54d59064-dc32-40a7-8ff8-d32580a607e0"
      },
      "execution_count": null,
      "outputs": [
        {
          "output_type": "stream",
          "name": "stdout",
          "text": [
            "77.0\n",
            "298.15\n",
            "536.6700000000001\n"
          ]
        }
      ]
    }
  ]
}