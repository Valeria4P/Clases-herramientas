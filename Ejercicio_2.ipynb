{
  "nbformat": 4,
  "nbformat_minor": 0,
  "metadata": {
    "colab": {
      "provenance": [],
      "authorship_tag": "ABX9TyONN6BYoiV63/BZpulSZNhX",
      "include_colab_link": true
    },
    "kernelspec": {
      "name": "python3",
      "display_name": "Python 3"
    },
    "language_info": {
      "name": "python"
    }
  },
  "cells": [
    {
      "cell_type": "markdown",
      "metadata": {
        "id": "view-in-github",
        "colab_type": "text"
      },
      "source": [
        "<a href=\"https://colab.research.google.com/github/Valeria4P/Clases-herramientas/blob/main/Ejercicio_2.ipynb\" target=\"_parent\"><img src=\"https://colab.research.google.com/assets/colab-badge.svg\" alt=\"Open In Colab\"/></a>"
      ]
    },
    {
      "cell_type": "code",
      "execution_count": 97,
      "metadata": {
        "colab": {
          "base_uri": "https://localhost:8080/"
        },
        "id": "UDLA8D0DIRJ9",
        "outputId": "173792d5-9250-44ca-bcdf-e3f4db7989ea"
      },
      "outputs": [
        {
          "output_type": "stream",
          "name": "stdout",
          "text": [
            "El área de la Tierra por esferoide es 510065621724078.94 m^2\n",
            "El área de la Tierra es 510064471909788.25 m^2\n",
            "La diferencia entre las áreas es 1149814290.6875 m^2\n",
            "El cociente entre las áreas es 1.0000022542528524 m^2\n",
            "La diferencia y el cociente entre las áreas son 0.00022542477707103626\n"
          ]
        }
      ],
      "source": [
        "#área de la tierra usando la fórmula para el área de superficie de un esferoide oblato\n",
        "import math\n",
        "a=6378137.0\n",
        "c=6356752.314245\n",
        "e2=1-(c**2/a**2)\n",
        "e=math.sqrt(e2)\n",
        "S=2*math.pi*a**2*(1+((1-e2)/e)*math.atanh(e))\n",
        "print(\"El área de la Tierra por esferoide es\", S, \"m^2\")\n",
        "#el área según la formula de una esfera\n",
        "r = 6371000\n",
        "a=4*math.pi*r**2\n",
        "print(\"El área de la Tierra es\", a, \"m^2\")\n",
        "#la diferencia entre las areas\n",
        "res=S-a\n",
        "print(\"La diferencia entre las áreas es\", res, \"m^2\")\n",
        "#el cociente entre las areas\n",
        "div=S/a\n",
        "print(\"El cociente entre las áreas es\", div, \"m^2\")\n",
        "#la diferencia y el cociente al mismo tiempo\n",
        "b=(S-a)/S*100\n",
        "print(\"La diferencia y el cociente entre las áreas son\", b)"
      ]
    },
    {
      "cell_type": "code",
      "source": [
        "#ejemplos de clase\n",
        "a = 33\n",
        "b = 200\n",
        "if b > a:\n",
        "  print(\"b es mayor que a\")"
      ],
      "metadata": {
        "colab": {
          "base_uri": "https://localhost:8080/"
        },
        "id": "6gbXzUTfSqI1",
        "outputId": "556a992a-cbd9-421b-da11-3fc3dc85f9a8"
      },
      "execution_count": 98,
      "outputs": [
        {
          "output_type": "stream",
          "name": "stdout",
          "text": [
            "b es mayor que a\n"
          ]
        }
      ]
    },
    {
      "cell_type": "code",
      "source": [
        "#ejemplo de clase\n",
        "a=55\n",
        "b=55\n",
        "if a<b:\n",
        "    print(\"a es menor que b\")\n",
        "elif a==b:\n",
        "  print(\"a es igual a b\")"
      ],
      "metadata": {
        "colab": {
          "base_uri": "https://localhost:8080/"
        },
        "id": "i7wk8nj3TaiW",
        "outputId": "ee9d499b-313d-4967-eec4-222019d2127d"
      },
      "execution_count": 99,
      "outputs": [
        {
          "output_type": "stream",
          "name": "stdout",
          "text": [
            "a es igual a b\n"
          ]
        }
      ]
    },
    {
      "cell_type": "code",
      "source": [
        "# Categoría y edad\n",
        "x = int(input(\"Ingresa tu edad: \"))\n",
        "\n",
        "a = 0\n",
        "b = 11\n",
        "c = 12\n",
        "d = 17\n",
        "e = 18\n",
        "f = 29\n",
        "g = 30\n",
        "h = 64\n",
        "\n",
        "if x < a:\n",
        "    print(\"Vuelve a intentarlo\")\n",
        "elif a <= x <= b:\n",
        "    print(\"Si tienes\", x, \"años, entonces eres un niño\")\n",
        "elif c <= x <= d:\n",
        "    print(\"Si tienes\", x, \"años, entonces eres un adolescente\")\n",
        "elif e <= x <= f:\n",
        "    print(\"Si tienes\", x, \"años, entonces eres un joven\")\n",
        "elif g <= x <= h:\n",
        "    print(\"Si tienes\", x, \"años, entonces eres un adulto\")\n",
        "elif x > h:\n",
        "    print(\"Si tienes\", x, \"años, entonces eres un adulto mayor\")\n",
        "\n"
      ],
      "metadata": {
        "colab": {
          "base_uri": "https://localhost:8080/"
        },
        "id": "bEg4OVQ7W92y",
        "outputId": "3fdaba10-275b-4592-c2b9-28fa4d9b8e7a"
      },
      "execution_count": 100,
      "outputs": [
        {
          "output_type": "stream",
          "name": "stdout",
          "text": [
            "Ingresa tu edad: 7\n",
            "Si tienes 7 años, entonces eres un niño\n"
          ]
        }
      ]
    }
  ]
}