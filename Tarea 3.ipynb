{
  "nbformat": 4,
  "nbformat_minor": 0,
  "metadata": {
    "colab": {
      "provenance": [],
      "authorship_tag": "ABX9TyNwr/8M/DhcYJNRlyZAE7la",
      "include_colab_link": true
    },
    "kernelspec": {
      "name": "python3",
      "display_name": "Python 3"
    },
    "language_info": {
      "name": "python"
    }
  },
  "cells": [
    {
      "cell_type": "markdown",
      "metadata": {
        "id": "view-in-github",
        "colab_type": "text"
      },
      "source": [
        "<a href=\"https://colab.research.google.com/github/Valeria4P/Clases-herramientas/blob/main/Tarea%203.ipynb\" target=\"_parent\"><img src=\"https://colab.research.google.com/assets/colab-badge.svg\" alt=\"Open In Colab\"/></a>"
      ]
    },
    {
      "cell_type": "code",
      "execution_count": 1,
      "metadata": {
        "colab": {
          "base_uri": "https://localhost:8080/"
        },
        "id": "1Y9_tCb2BWOo",
        "outputId": "55f2f061-7a07-4968-8edc-886f7b50ec1a"
      },
      "outputs": [
        {
          "output_type": "stream",
          "name": "stdout",
          "text": [
            "¿Cuántos dólares tienes? 58\n",
            "Si tienes 58.0 dolares, entonces tienes 986.00 pesos mexicanos\n",
            "Si tienes 58.0 dolares, entonces tienes 53.36 euros\n",
            "Si tienes 58.0 dolares, entonces tienes 45.82 libras esterlinas\n",
            "Si tienes 58.0 dolares, entonces tienes 419.92 yuanes\n"
          ]
        }
      ],
      "source": [
        "#Diseña un programa que convierta dólares americanos a pesos mexicanos, euros, libras esterlinas, yuanes y rublos utilizando una tasa de cambio fija.\n",
        "#Muestre la tasa de cambio e imprima los cinco resultados.\n",
        "#1 dolar a diferentes monedas\n",
        "x= float(input(\"¿Cuántos dólares tienes? \"))\n",
        "pesos_mex=17\n",
        "euros=0.92\n",
        "lib_es=0.79\n",
        "yuanes=7.24\n",
        "rublos=90.27\n",
        "\n",
        "#operaciones de conversion\n",
        "pesos_mexf=x*pesos_mex\n",
        "eurosf=x*euros\n",
        "lib_esf=x*lib_es\n",
        "yuanesf=x*yuanes\n",
        "rublosf=x*rublos\n",
        "\n",
        "#imprimir resultados\n",
        "print(\"Si tienes\", x, f\"dolares, entonces tienes {pesos_mexf:.2f} pesos mexicanos\")\n",
        "print(\"Si tienes\", x, f\"dolares, entonces tienes {eurosf:.2f} euros\")\n",
        "print(\"Si tienes\", x, f\"dolares, entonces tienes {lib_esf:.2f} libras esterlinas\")\n",
        "print(\"Si tienes\", x, f\"dolares, entonces tienes {yuanesf:.2f} yuanes\")"
      ]
    },
    {
      "cell_type": "code",
      "source": [
        "7#Crea un programa que solicite al usuario dos números y realice las operaciones básicas como suma, resta, multiplicación, división, potenciación y raíz cuadrada.\n",
        "#Muestra los resultados usando variables.\n",
        "# Solicitar al usuario que ingrese dos números\n",
        "x = float(input(\"Si tu primer numero es:\"))\n",
        "y = float(input(\"Y el segundo es:\"))\n",
        "\n",
        "# Realizar operaciones matemáticas\n",
        "sum = x + y\n",
        "res = x - y\n",
        "mul = x * y\n",
        "if y == 0:\n",
        "    div = \"No es posible dividir entre cero\"\n",
        "else:\n",
        "    div = f\"{x / y:.2f}\"\n",
        "pot1=x**y\n",
        "pot2=y**x\n",
        "raiz_c1=x**(1/2)\n",
        "raiz_c2=y**(1/2)\n",
        "\n",
        "# Mostrar los resultados\n",
        "print(f\"La suma es: {sum}\")\n",
        "print(f\"La resta es: {res}\")\n",
        "print(f\"La multiplicación es: {mul}\")\n",
        "print(f\"La división es: {div}\")\n",
        "print(f\"Tu primer número potencia el segundo es: {pot1}\")\n",
        "print(f\"Tu segundo número potencia el primero es: {pot2}\")\n",
        "print(f\"La raíz cuadrada del primer número es: {raiz_c1:.2f}\")\n",
        "print(f\"La raíz cuadrada del segundo número es: {raiz_c2:.2f}\")"
      ],
      "metadata": {
        "colab": {
          "base_uri": "https://localhost:8080/"
        },
        "id": "4IbvgfahLJ_3",
        "outputId": "d2f8685b-43f0-4a72-afee-513459b18c48"
      },
      "execution_count": 2,
      "outputs": [
        {
          "output_type": "stream",
          "name": "stdout",
          "text": [
            "Si tu primer numero es:5\n",
            "Y el segundo es:8\n",
            "La suma es: 13.0\n",
            "La resta es: -3.0\n",
            "La multiplicación es: 40.0\n",
            "La división es: 0.62\n",
            "Tu primer número potencia el segundo es: 390625.0\n",
            "Tu segundo número potencia el primero es: 32768.0\n",
            "La raíz cuadrada del primer número es: 2.24\n",
            "La raíz cuadrada del segundo número es: 2.83\n"
          ]
        }
      ]
    },
    {
      "cell_type": "code",
      "source": [
        "#Desarrolla un programa que calcule el precio final de un producto después de aplicar un descuento. El usuario debe ingresar el precio original y el porcentaje de descuento.\n",
        "#Utiliza variables para almacenar los valores\n",
        "\n",
        "# Solicitar al usuario que ingrese el precio original y el porcentaje de descuento\n",
        "po = float(input(\"El precio original del producto es: \"))\n",
        "pd = int(input(\"El porcentaje del descuento es (%): \"))\n",
        "\n",
        "# Calcular el monto del descuento\n",
        "desc = (pd/ 100) * po\n",
        "\n",
        "# Calcular el precio final\n",
        "pf= po - desc\n",
        "\n",
        "#Resultados\n",
        "print(\"\\n=== Resultados ===\")\n",
        "print(f\"Precio original: ${po:.2f}\")\n",
        "print(f\"Descuento aplicado: {pd}%, lo que son ${desc:.2f}\")\n",
        "print(f\"Precio final a pagar: ${pf:.2f}\")"
      ],
      "metadata": {
        "colab": {
          "base_uri": "https://localhost:8080/"
        },
        "id": "Z2xUONI_M-uP",
        "outputId": "e9a91ca9-adf3-4f90-ea78-db3dc0248c03"
      },
      "execution_count": 3,
      "outputs": [
        {
          "output_type": "stream",
          "name": "stdout",
          "text": [
            "El precio original del producto es: 84\n",
            "El porcentaje del descuento es (%): 7\n",
            "\n",
            "=== Resultados ===\n",
            "Precio original: $84.00\n",
            "Descuento aplicado: 7%, lo que son $5.88\n",
            "Precio final a pagar: $78.12\n"
          ]
        }
      ]
    },
    {
      "cell_type": "code",
      "source": [
        "#Conversión de coordenadas y localización geográfica.\n",
        "#Para cada uno de los siguientes pares de coordenadas (latitud, longitud), realiza lo siguiente usando solo variables (sin funciones definidas por ti, sin ciclos):\n",
        "\n",
        "#Sean °= grados, '= minutos, ''= segundos y la letra los puntos cardinales\n",
        "# Coordenada 1: 40°41'21''N , 74°2'40''W\n",
        "lat1_g = 40\n",
        "lat1_m = 41\n",
        "lat1_s = 21\n",
        "lat1_dir = \"+\"\n",
        "\n",
        "lon1_g = 74\n",
        "lon1_m = 2\n",
        "lon1_s = 40\n",
        "lon1_dir = \"-\"\n",
        "\n",
        "# Coordenada 2: 48°51'12''N , 2°20'55''E\n",
        "lat2_g = 48\n",
        "lat2_m = 51\n",
        "lat2_s = 12\n",
        "lat2_dir = \"+\"\n",
        "\n",
        "lon2_g = 2\n",
        "lon2_m = 20\n",
        "lon2_s = 55\n",
        "lon2_dir = \"+\"\n",
        "\n",
        "# Coordenada 3: 34°3'8''S , 151°12'33''E\n",
        "lat3_g = 34\n",
        "lat3_m = 3\n",
        "lat3_s = 8\n",
        "lat3_dir = \"-\"\n",
        "\n",
        "lon3_g = 151\n",
        "lon3_m = 12\n",
        "lon3_s = 33\n",
        "lon3_dir = \"+\"\n",
        "\n",
        "# Aplicar la fórmula para convertir a grados decimales:\n",
        "# decimal = grados + (minutos / 60) + (segundos / 3600)\n",
        "\n",
        "#Coordenada 1\n",
        "lat1_dec = lat1_g + (lat1_m/60) + (lat1_s/3600)\n",
        "if lat1_dir == \"+\":\n",
        "    lat1_dec = +lat1_dec\n",
        "    la1r = round(lat1_dec,3)\n",
        "\n",
        "    lon1_dec = lon1_g + lon1_m/60 + lon1_s/3600\n",
        "    if lon1_dir == \"-\":\n",
        "        lon1_dec = -lon1_dec\n",
        "        lo1r=round(lon1_dec,3)\n",
        "\n",
        "        #Coordenada 2\n",
        "        lat2_dec = lat2_g + lat2_m/60 + lat2_s/3600\n",
        "        if lat2_dir == \"+\":\n",
        "            lat2_dec = +lat2_dec\n",
        "            la2r = round(lat2_dec,3)\n",
        "\n",
        "            lon2_dec = lon2_g + lon2_m/60 + lon2_s/3600\n",
        "            if lon2_dir == \"+\":\n",
        "                lon2_dec = +lon2_dec\n",
        "                lo2r = round(lon2_dec,3)\n",
        "\n",
        "                #Coordenada 3\n",
        "                lat3_dec = lat3_g + lat3_m/60 + lat3_s/3600\n",
        "                if lat3_dir == \"-\":\n",
        "                    lat3_dec = -lat3_dec\n",
        "                    la3r = round(lat3_dec,3)\n",
        "\n",
        "                    lon3_dec = lon3_g + lon3_m/60 + lon3_s/3600\n",
        "                    if lon3_dir == \"+\":\n",
        "                        lon3_dec = +lon3_dec\n",
        "                        lo3r = round(lon3_dec,3)\n",
        "\n",
        "\n",
        "                        #Mostrar resultados\n",
        "                        print(\"La primera coordenada tiene sus valores en grados de latitud: +\", la1r, \"° y longitud:\", lo1r,\"°\")\n",
        "                        print(\"La segunda coordenada tiene sus valores en grados de latitud: +\", la2r,\"° y longitud: +\", lo2r,\"°\")\n",
        "                        print(\"Y la tercera coordenada tiene sus valores en grados de latitud:\", la3r,\"° y longitud: +\", lo3r,\"°\")\n",
        "\n",
        "                        #Lugares\n",
        "                        print(\"Los lugares de las coordenadas son:\")\n",
        "                        print(\"1) La Estatua de la Libertad, Nueva York, EE.UU\")\n",
        "                        print(\"2) La Torre Eiffel, París, Francia\")\n",
        "                        print(\"3) La Ópera de Sídney, Autralia\")"
      ],
      "metadata": {
        "id": "XInp-g2IWa7A",
        "colab": {
          "base_uri": "https://localhost:8080/"
        },
        "outputId": "029e4ec2-eab8-43f5-9a29-5a350925f221"
      },
      "execution_count": 23,
      "outputs": [
        {
          "output_type": "stream",
          "name": "stdout",
          "text": [
            "La primera coordenada tiene sus valores en grados de latitud: + 40.689 ° y longitud: -74.044 °\n",
            "La segunda coordenada tiene sus valores en grados de latitud: + 48.853 ° y longitud: + 2.349 °\n",
            "Y la tercera coordenada tiene sus valores en grados de latitud: -34.052 ° y longitud: + 151.209 °\n",
            "Los lugares de las coordenadas son:\n",
            "1) La Estatua de la Libertad, Nueva York, EE.UU\n",
            "2) La Torre Eiffel, París, Francia\n",
            "3) La Ópera de Sídney, Autralia\n"
          ]
        }
      ]
    },
    {
      "cell_type": "code",
      "source": [
        "#Calcular la energía cinética (Ec), la energía potencial gravitacional (Ep) y la energía mecánica total (Em).:\n",
        "#variables\n",
        "m=2 #kg\n",
        "hcm=10 #cm\n",
        "hm=0.1 #m\n",
        "v=3 #m/s.\n",
        "g=9.8 #m/s^2\n",
        "\n",
        "#formulas\n",
        "ec=(1/2)*m*v**2\n",
        "ep=m*g*hm\n",
        "em=ec+ep\n",
        "\n",
        "#resultados\n",
        "print(f\"La energía cinética es: {ec} J\")\n",
        "print(f\"La energía potencial gravitacional es: {ep:.2f} J\")\n",
        "print(f\"La energía mecánica total es: {em:.2f} J\")"
      ],
      "metadata": {
        "colab": {
          "base_uri": "https://localhost:8080/"
        },
        "id": "rMfxqTrgWvYG",
        "outputId": "21731796-37d6-401a-8452-2ac6c43591f4"
      },
      "execution_count": 5,
      "outputs": [
        {
          "output_type": "stream",
          "name": "stdout",
          "text": [
            "La energía cinética es: 9.0 J\n",
            "La energía potencial gravitacional es: 1.96 J\n",
            "La energía mecánica total es: 10.96 J\n"
          ]
        }
      ]
    },
    {
      "cell_type": "code",
      "source": [
        "# Escribe un programa que pida un número entero y determine si es par o impar utilizando la sentencia if-elif-else.\n",
        "#Si el valor ingresado no es un entero válido, el programa debe indicarlo y que vuelva a ejecutar el programa.\n",
        "\n",
        "x=input(\"Si tienes un número entero: \")\n",
        "try:\n",
        "  x=int(x)\n",
        "  if x%2==0:\n",
        "    print(f\"El número {x} es par\")\n",
        "  elif x%2==1:\n",
        "    print(f\"El número {x} es impar\")\n",
        "  else:\n",
        "    print(\"Algo inesperado ocurrio\")\n",
        "except ValueError:\n",
        "  print(\"El valor ingresado no es un entero válido, vuelve a ejecutar el programa\")\n",
        "\n",
        "#Hint. Recuerde la operación módulo"
      ],
      "metadata": {
        "colab": {
          "base_uri": "https://localhost:8080/"
        },
        "id": "bJuQhm8bZcdC",
        "outputId": "79244990-d4be-494c-9a7f-363eb7dc989f"
      },
      "execution_count": 6,
      "outputs": [
        {
          "output_type": "stream",
          "name": "stdout",
          "text": [
            "Si tienes un número entero: 58\n",
            "El número 58 es par\n"
          ]
        }
      ]
    },
    {
      "cell_type": "code",
      "source": [
        "#Tipo de triángulo.\n",
        "#Solicite al usuario que ingrese los valores de los lados de un triángulo (enteros positivos) y realice lo siguiente:\n",
        "\n",
        "#insertar tres valores para un triángulo\n",
        "x=input(\"Si tienes que el valor para el primer lado es: \")\n",
        "y=input(\"Para el segundo lado es: \")\n",
        "z=input(\"Y para el tercer lado es: \")\n",
        "try:\n",
        "  x=int(x)\n",
        "  y=int(y)\n",
        "  z=int(z)\n",
        "\n",
        "  #valores positivos\n",
        "  if x<0 or y<0 or z<0:\n",
        "    print(\"Los valores ingresados no son positivos, vuelve a ejecutar el programa\")\n",
        "  #operaciones para validar la formación de un triángulo (desigualdad triangular).\n",
        "  elif x+y>z and x+z>y and y+z>x:\n",
        "      print(\"Entonces se forma un triángulo\")\n",
        "\n",
        "    #operaciones para determinar si forman un triángulo equilátero, isosceles o escaleno\n",
        "      if x==y==z:\n",
        "         print(\"Y es un triángulo equilátero\")\n",
        "      elif x==y or x==z or y==z:\n",
        "         print(\"Y es un triángulo isósceles\")\n",
        "      else:\n",
        "         print(\"Y es un triángulo escaleno\")\n",
        "  else:\n",
        "    print(\"No se forma un triángulo\")\n",
        "except ValueError:\n",
        "  print(\"El valor ingresado no es un entero válido, vuelve a ejecutar el programa\")\n",
        "\n",
        "#Hint. Recuerde la operación módulo"
      ],
      "metadata": {
        "id": "rfzAcG_CdnL1",
        "colab": {
          "base_uri": "https://localhost:8080/"
        },
        "outputId": "f3497043-c62b-4cff-8eb2-beb7468b310e"
      },
      "execution_count": 7,
      "outputs": [
        {
          "output_type": "stream",
          "name": "stdout",
          "text": [
            "Si tienes que el valor para el primer lado es: 8\n",
            "Para el segundo lado es: 8\n",
            "Y para el tercer lado es: 5\n",
            "Entonces se forma un triángulo\n",
            "Y es un triángulo isósceles\n"
          ]
        }
      ]
    },
    {
      "cell_type": "code",
      "source": [
        "#Crea un script en Python que determine cuál de tres números introducidos por el usuario es el mayor\n",
        "#Usa sentencias IF anidadas o múltiples ELIF\n",
        "\n",
        "#Determinando los valores\n",
        "x=float(input(\"Si el primer número es: \"))\n",
        "y=float(input(\"El segundo es: \"))\n",
        "z=float(input(\"Y el tercero es: \"))\n",
        "\n",
        "#Operaciones\n",
        "if x>y and x>z:\n",
        "  print(\"El número\", x, \"es el mayor\")\n",
        "elif y>x and y>z:\n",
        "  print(\"El número\", y, \"es el mayor\")\n",
        "elif z>x and z>y:\n",
        "  print(\"El número\", z, \"es el mayor\")\n",
        "elif x==y==z:\n",
        "  print(\"Todos los números son iguales\")\n",
        "elif x==z and x>y:\n",
        "  print(\"Los números\", x, \"y\", z, \"son iguales y son los mayores\")\n",
        "elif y==z and y>x:\n",
        "  print(\"Los números\", y, \"y\", z, \"son iguales y son los mayores\")\n",
        "elif x==y and x>z:\n",
        "  print(\"Los números\", x, \"y\", y, \"son iguales y son los mayores\")\n",
        "\n"
      ],
      "metadata": {
        "colab": {
          "base_uri": "https://localhost:8080/"
        },
        "id": "kvQhvN7A5gxe",
        "outputId": "d445a0ec-f55b-40fc-9013-971ca574bb1c"
      },
      "execution_count": 8,
      "outputs": [
        {
          "output_type": "stream",
          "name": "stdout",
          "text": [
            "Si el primer número es: 58\n",
            "El segundo es: 5\n",
            "Y el tercero es: 8\n",
            "El número 58.0 es el mayor\n"
          ]
        }
      ]
    },
    {
      "cell_type": "code",
      "source": [
        "# Programe un script en Python que determine si dos rectas dadas por las ecuaciones y1=m1x + b1 y y2=m2x+b2 se intersectan, son paralelas o coincidentes.\n",
        "#Utilice estructuras de control (IF - ELSE) para manejar los diferentes casos.\n",
        "\n",
        "#Definiendo los valores de las pendientes y las ordenadas\n",
        "m1=float(input(\"Si el valor de la pendiente de la primera recta es: \"))\n",
        "b1=float(input(\"Y su valor de la ordenada al origen es:\"))\n",
        "m2=float(input(\"Mientras que el valor de la pendiente de la segunda recta es: \"))\n",
        "b2=float(input(\"Y el valor de la ordenada al origen es:\"))\n",
        "\n",
        "#Comprobando si se intersectan, son paralelas o coincidentes\n",
        "if m1==m2 and b1==b2:\n",
        "  print(\"Las rectas son coincidentes\")\n",
        "else:\n",
        "  print(\"Las rectas no son coincidentes, entonces:\")\n",
        "  if m1==m2 and b1!=b2:\n",
        "    print(\"Son rectas paralelas\")\n",
        "  else:\n",
        "    print(\"Se intersectan\")"
      ],
      "metadata": {
        "colab": {
          "base_uri": "https://localhost:8080/"
        },
        "id": "d5Ip2qmH5s0G",
        "outputId": "47caadac-7166-4514-ede9-b29485c736e5"
      },
      "execution_count": 9,
      "outputs": [
        {
          "output_type": "stream",
          "name": "stdout",
          "text": [
            "Si el valor de la pendiente de la primera recta es: 8\n",
            "Y su valor de la ordenada al origen es:8\n",
            "Mientras que el valor de la pendiente de la segunda recta es: 8\n",
            "Y el valor de la ordenada al origen es:8\n",
            "Las rectas son coincidentes\n"
          ]
        }
      ]
    },
    {
      "cell_type": "code",
      "source": [
        "#Escriba un programa que solicite al usuario un año y que el programa indique si es bisiesto o no.\n",
        "#Recuerde, los años bisiestos son múltiplos de 4, no es el caso para los múltiplos de 100, pero si para los múltiplos de 400\n",
        "\n",
        "#Definiendo el año\n",
        "x=int(input(\"Si tu año es: \"))\n",
        "\n",
        "#Definiendo si es o no bisiesto\n",
        "if x%4==0 and x%100!=0 or x%400==0:\n",
        "  print(\"Debes saber que el año\", x, \"es bisiesto\")\n",
        "else:\n",
        "  print(\"Debes saber que el año\", x, \"no es bisiesto\")\n",
        "\n"
      ],
      "metadata": {
        "colab": {
          "base_uri": "https://localhost:8080/"
        },
        "id": "aBSacZ6i5yvz",
        "outputId": "147dcbbb-acf4-4af6-bcd6-316e5ee807ed"
      },
      "execution_count": 10,
      "outputs": [
        {
          "output_type": "stream",
          "name": "stdout",
          "text": [
            "Si tu año es: 5248\n",
            "Debes saber que el año 5248 es bisiesto\n"
          ]
        }
      ]
    }
  ]
}