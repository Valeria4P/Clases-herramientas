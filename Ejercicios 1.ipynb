{
  "nbformat": 4,
  "nbformat_minor": 0,
  "metadata": {
    "colab": {
      "provenance": [],
      "authorship_tag": "ABX9TyN+fpNf7CPd85S7KG7UARpk",
      "include_colab_link": true
    },
    "kernelspec": {
      "name": "python3",
      "display_name": "Python 3"
    },
    "language_info": {
      "name": "python"
    }
  },
  "cells": [
    {
      "cell_type": "markdown",
      "metadata": {
        "id": "view-in-github",
        "colab_type": "text"
      },
      "source": [
        "<a href=\"https://colab.research.google.com/github/Valeria4P/Clases-herramientas/blob/main/Ejercicios%201.ipynb\" target=\"_parent\"><img src=\"https://colab.research.google.com/assets/colab-badge.svg\" alt=\"Open In Colab\"/></a>"
      ]
    },
    {
      "cell_type": "code",
      "execution_count": null,
      "metadata": {
        "colab": {
          "base_uri": "https://localhost:8080/"
        },
        "id": "0bRCVV3J-0iV",
        "outputId": "983bb5c4-db55-490b-881d-14a013fcf269"
      },
      "outputs": [
        {
          "output_type": "stream",
          "name": "stdout",
          "text": [
            "reciben 8 manzanas cada uno\n",
            "faltan 2 manzanas\n"
          ]
        }
      ],
      "source": [
        "#tengo 50 manzanas y quiero repartirlas entre 6 personas en partes iguales, ¿cuantas manzanas recibe cada uno?\n",
        "manzana=50\n",
        "personas=6\n",
        "repartir=manzana//personas\n",
        "print(\"reciben\",repartir,\"manzanas cada uno\")\n",
        "\n",
        "perdidas=manzana%personas\n",
        "print(\"faltan\",perdidas,\"manzanas\")"
      ]
    },
    {
      "cell_type": "code",
      "source": [
        "#un curso dura 100 dias, cuantas semanas completas hay en total?\n",
        "dias=100\n",
        "dias_en_semana=7\n",
        "semanas=dias//dias_en_semana\n",
        "print(\"hay\",semanas,\"semanas\")\n",
        "\n",
        "perdidas=dias%dias_en_semana\n",
        "print(\"faltan\",perdidas,\"semanas\")"
      ],
      "metadata": {
        "colab": {
          "base_uri": "https://localhost:8080/"
        },
        "id": "gJFjVhpN-5bq",
        "outputId": "b1009038-dea8-4830-908a-1a25fbab413d"
      },
      "execution_count": null,
      "outputs": [
        {
          "output_type": "stream",
          "name": "stdout",
          "text": [
            "hay 14 semanas\n",
            "faltan 2 semanas\n"
          ]
        }
      ]
    },
    {
      "cell_type": "code",
      "source": [
        "resultado=(1<7)or(6<1)\n",
        "print(resultado)\n",
        "resultado=(3<7)and(6<1)\n",
        "print(resultado)"
      ],
      "metadata": {
        "colab": {
          "base_uri": "https://localhost:8080/"
        },
        "id": "42nQ2UG3_SIu",
        "outputId": "ed39555c-286c-4d4c-edf8-8bab4ab72f2e"
      },
      "execution_count": null,
      "outputs": [
        {
          "output_type": "stream",
          "name": "stdout",
          "text": [
            "True\n",
            "False\n"
          ]
        }
      ]
    },
    {
      "cell_type": "code",
      "source": [
        "#Ej.1 Dado un triángulo con a=7, b=8 y c=9, área del triangulo por Heron\n",
        "a=7\n",
        "b=8\n",
        "c=9\n",
        "s=(a+b+c)/2\n",
        "area=(s*(s-a)*(s-b)*(s-c))**0.5\n",
        "print(\"El área del triangulo es\",area,\"unidades cuadradas\")"
      ],
      "metadata": {
        "colab": {
          "base_uri": "https://localhost:8080/"
        },
        "id": "hlyYPF09DJA5",
        "outputId": "200eead2-d461-4e32-aed3-300da22b9aee"
      },
      "execution_count": null,
      "outputs": [
        {
          "output_type": "stream",
          "name": "stdout",
          "text": [
            "El área del triangulo es 26.832815729997478 unidades cuadradas\n"
          ]
        }
      ]
    },
    {
      "cell_type": "code",
      "source": [
        "#Ej.2 hayar los valores de las raíces por medio de la fórmula general\n",
        "#x=(x^2-5x+6=0)\n",
        "a=1\n",
        "b=-5\n",
        "c=6\n",
        "formula_general1= (-b+(b**2-4*a*c)**0.5)/2*a\n",
        "formula_general2= (-b-(b**2-4*a*c)**0.5)/2*a\n",
        "print(\"los valores de las raices son\",formula_general1,\"y\",formula_general2)\n",
        "#x2=(x^2+4x+13=0)\n",
        "a=1\n",
        "b=4\n",
        "c=13\n",
        "formula_general3= (-b+(b**2-4*a*c)**0.5)/2*a\n",
        "formula_general4= (-b-(b**2-4*a*c)**0.5)/2*a\n",
        "print(\"los valores de las raices son\",formula_general3,\"y\",formula_general4)\n",
        "\n"
      ],
      "metadata": {
        "colab": {
          "base_uri": "https://localhost:8080/"
        },
        "id": "IgHzhF5CEQuK",
        "outputId": "c030383a-b70c-4190-e93f-d39cf8b656f4"
      },
      "execution_count": null,
      "outputs": [
        {
          "output_type": "stream",
          "name": "stdout",
          "text": [
            "los valores de las raices son 3.0 y 2.0\n",
            "los valores de las raices son (-1.9999999999999998+3j) y (-2-3j)\n"
          ]
        }
      ]
    },
    {
      "cell_type": "markdown",
      "source": [],
      "metadata": {
        "id": "Q_aVVXzr-4C5"
      }
    }
  ]
}